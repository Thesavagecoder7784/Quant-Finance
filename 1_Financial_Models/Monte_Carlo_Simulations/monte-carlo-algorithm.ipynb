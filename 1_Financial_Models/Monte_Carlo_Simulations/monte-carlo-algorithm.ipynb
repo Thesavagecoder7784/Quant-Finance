{
 "cells": [
  {
   "cell_type": "code",
   "execution_count": 1,
   "metadata": {
    "execution": {
     "iopub.execute_input": "2025-06-20T15:00:45.904796Z",
     "iopub.status.busy": "2025-06-20T15:00:45.904569Z",
     "iopub.status.idle": "2025-06-20T15:00:45.913709Z",
     "shell.execute_reply": "2025-06-20T15:00:45.912234Z",
     "shell.execute_reply.started": "2025-06-20T15:00:45.904776Z"
    },
    "trusted": true
   },
   "outputs": [],
   "source": [
    "import numpy as np"
   ]
  },
  {
   "cell_type": "code",
   "execution_count": 2,
   "metadata": {
    "_cell_guid": "b1076dfc-b9ad-4769-8c92-a6c4dae69d19",
    "_uuid": "8f2839f25d086af736a60e9eeb907d3b93b6e0e5",
    "execution": {
     "iopub.execute_input": "2025-06-20T15:00:45.915601Z",
     "iopub.status.busy": "2025-06-20T15:00:45.915263Z",
     "iopub.status.idle": "2025-06-20T15:00:45.969667Z",
     "shell.execute_reply": "2025-06-20T15:00:45.968736Z",
     "shell.execute_reply.started": "2025-06-20T15:00:45.915569Z"
    },
    "trusted": true
   },
   "outputs": [
    {
     "name": "stdout",
     "output_type": "stream",
     "text": [
      "Estimated European Call Option Price: $5.97\n"
     ]
    }
   ],
   "source": [
    "# Inputs\n",
    "S0 = 100       # Initial stock price\n",
    "K = 110        # Strike price\n",
    "T = 1.0        # Time to maturity (in years)\n",
    "r = 0.05       # Risk-free interest rate (annual)\n",
    "sigma = 0.2    # Volatility of the stock (annual)\n",
    "n_simulations = 100_000  # Number of simulated paths\n",
    "\n",
    "# Monte Carlo Simulation\n",
    "np.random.seed(23)  # For reproducibility\n",
    "Z = np.random.standard_normal(n_simulations)  # Random standard normal variables\n",
    "ST = S0 * np.exp((r - 0.5 * sigma ** 2) * T + sigma * np.sqrt(T) * Z)  # Simulated end prices\n",
    "\n",
    "# Call option payoff: max(ST - K, 0)\n",
    "payoffs = np.maximum(ST - K, 0)\n",
    "\n",
    "# Discount back to present value\n",
    "option_price = np.exp(-r * T) * np.mean(payoffs)\n",
    "\n",
    "print(f\"Estimated European Call Option Price: ${option_price:.2f}\")"
   ]
  },
  {
   "cell_type": "code",
   "execution_count": null,
   "metadata": {
    "trusted": true
   },
   "outputs": [],
   "source": []
  }
 ],
 "metadata": {
  "kaggle": {
   "accelerator": "none",
   "dataSources": [],
   "dockerImageVersionId": 31040,
   "isGpuEnabled": false,
   "isInternetEnabled": true,
   "language": "python",
   "sourceType": "notebook"
  },
  "kernelspec": {
   "display_name": "Python 3.9 (myenv)",
   "language": "python",
   "name": "myenv"
  },
  "language_info": {
   "codemirror_mode": {
    "name": "ipython",
    "version": 3
   },
   "file_extension": ".py",
   "mimetype": "text/x-python",
   "name": "python",
   "nbconvert_exporter": "python",
   "pygments_lexer": "ipython3",
   "version": "3.9.22"
  }
 },
 "nbformat": 4,
 "nbformat_minor": 4
}
